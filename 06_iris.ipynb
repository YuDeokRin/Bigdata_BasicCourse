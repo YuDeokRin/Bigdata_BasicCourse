{
 "cells": [
  {
   "cell_type": "markdown",
   "metadata": {},
   "source": [
    "# 'Fisher의 붓꽃 데이터' 유명한 데이터를 이용\n",
    "# https://github.com/pandas-dev/pandas/blob/master/pandas/tests/data/iris.csv\n",
    "SepalLength : 꽃받침의 길이\n",
    "\n",
    "SepalWidth : 꽃받침의 너비\n",
    "\n",
    "PetalLength : 꽃잎의 길이\n",
    "\n",
    "PetalWidth : 꽃잎의 너비 \n",
    "\n",
    "Name : 꽃품종\n",
    "(Iris-setosa , Iris-versicolor, Iris-virginica)\n",
    "\n",
    "1. 붓꽃 데이터에서 꽃받침과 꽃잎의 너비와 길이 정보(데이터 부분), 붓꽃 품종 정보(레이블 부분)를 분리합니다.\n",
    "2. 전체 데이터 중에서 80%를 학습 전용 데이터로 사용, 20%를 테스트 전용 데이터로 사용하기 위해 분리합니다.\n",
    "3. 학습 전용 데이터를 사용해 학습하고 테스트 전용 데이터를 사용해 품종 분류를 제대로 하는지 확인합니다.\n"
   ]
  },
  {
   "cell_type": "code",
   "execution_count": 3,
   "metadata": {},
   "outputs": [
    {
     "name": "stdout",
     "output_type": "stream",
     "text": [
      "정답률  :  0.9666666666666667\n"
     ]
    }
   ],
   "source": [
    "#파이썬에서 사용하는 데이터분석 라이브러리로, 행과 열로 이루어진 데이터 객체를 만들어 다룰 수 있게 되며\n",
    "#안정적인 대용량 데이터들을 처리하는데 유용한 도구입니다.\n",
    "#pip install pandas\n",
    "import pandas as pd\n",
    "\n",
    "from sklearn.model_selection import train_test_split\n",
    "from sklearn.svm import SVC\n",
    "from sklearn.metrics import accuracy_score \n",
    "\n",
    "# 데이터 읽어오기(pandas의 dataframe 객체로 리턴)\n",
    "iris_data =  pd.read_csv(\"iris.csv\", encoding=\"utf-8\")\n",
    "# print(iris_data)\n",
    "\n",
    "# 읽어온 붓꽃 데이터를 레이블 부분과 입력 데이터 부분으로 분리합니다.\n",
    "# 분리할 때는 dataframe 객체의 loc() 메소드를 이용합니다.\n",
    "x = iris_data.loc[:,[\"SepalLength\",\"SepalWidth\", \"PetalLength\",\"PetalWidth\"]]\n",
    "y = iris_data.loc[:,\"Name\"]\n",
    "# print(x)\n",
    "# print(y)\n",
    "\n",
    "# 학습 전용데이터와 테스트 전용데이터를 분리하기\n",
    "\n",
    "# 데이터의 편향이 발생하지 않도록 shuffle=True로 지정합니다. (랜덤하게 데이터를 선택하게 해줌, 디폴트이므로 지정하지 않아도 됨)\n",
    "x_train, x_test, y_train, y_test = train_test_split(x,y, test_size=0.2, train_size=0.8, shuffle=True)\n",
    "\n",
    "# 클래스를 분류하는 학습기를 생성합니다.\n",
    "clf = SVC()\n",
    "clf.fit(x_train, y_train) # 학습 전용 데이터를 학습시킵니다.\n",
    "\n",
    "y_pred = clf.predict(x_test) # 데스트 데이터를 사용해 예측하고 예측 결과와 정답 레이블을 비교해 정답율을 계산합니다.\n",
    "print(\"정답률  : \", accuracy_score(y_test, y_pred))   # accuracy_score  결과를 비교하기위해 쓴다.\n",
    "\n"
   ]
  },
  {
   "cell_type": "code",
   "execution_count": null,
   "metadata": {},
   "outputs": [],
   "source": []
  }
 ],
 "metadata": {
  "kernelspec": {
   "display_name": "Python 3",
   "language": "python",
   "name": "python3"
  },
  "language_info": {
   "codemirror_mode": {
    "name": "ipython",
    "version": 3
   },
   "file_extension": ".py",
   "mimetype": "text/x-python",
   "name": "python",
   "nbconvert_exporter": "python",
   "pygments_lexer": "ipython3",
   "version": "3.6.10"
  }
 },
 "nbformat": 4,
 "nbformat_minor": 4
}
