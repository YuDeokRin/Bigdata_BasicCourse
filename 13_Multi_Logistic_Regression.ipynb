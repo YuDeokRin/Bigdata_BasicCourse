{
 "cells": [
  {
   "cell_type": "code",
   "execution_count": 2,
   "metadata": {},
   "outputs": [],
   "source": [
    "import tensorflow.compat.v1 as tf\n",
    "tf.disable_v2_behavior()\n",
    "import numpy as np"
   ]
  },
  {
   "cell_type": "code",
   "execution_count": 4,
   "metadata": {},
   "outputs": [],
   "source": [
    "# 실행할 때 마다 같은 값을 얻어오기 위한 tensorflow, numpy random seed 값을 설정한다.\n",
    "seed = 0\n",
    "tf.set_random_seed(seed)\n",
    "np.random.seed(seed)"
   ]
  },
  {
   "cell_type": "code",
   "execution_count": 8,
   "metadata": {},
   "outputs": [
    {
     "name": "stdout",
     "output_type": "stream",
     "text": [
      "[[ 2  3]\n",
      " [ 4  3]\n",
      " [ 6  4]\n",
      " [ 8  6]\n",
      " [10  7]\n",
      " [12  8]\n",
      " [14  9]]\n",
      "<class 'numpy.ndarray'>\n"
     ]
    }
   ],
   "source": [
    "# 학습할 데이터를 만듭니다.\n",
    "# xData : [공부시간, 과외시간]\n",
    "'''\n",
    "xData = [[2, 3], [4, 3], [6, 4], [8, 6], [10, 7], [12, 8], [14, 9]]\n",
    "print(xData)\n",
    "print(type(xData))\n",
    "'''\n",
    "xData = np.array([[2, 3], [4, 3], [6, 4], [8, 6], [10, 7], [12, 8], [14, 9]]) # 7행 2열 numpy 배열\n",
    "print(xData)\n",
    "print(type(xData)) # <class 'numpy.ndarray'>"
   ]
  },
  {
   "cell_type": "code",
   "execution_count": 13,
   "metadata": {},
   "outputs": [
    {
     "name": "stdout",
     "output_type": "stream",
     "text": [
      "[[0]\n",
      " [0]\n",
      " [0]\n",
      " [1]\n",
      " [1]\n",
      " [1]\n",
      " [1]]\n",
      "<class 'numpy.ndarray'>\n"
     ]
    }
   ],
   "source": [
    "# yData : [합격 여부] -> 실제값\n",
    "'''\n",
    "yData = [0, 0, 0, 1, 1, 1, 1]\n",
    "print(yData)\n",
    "print(type(yData)) # <class 'list'>\n",
    "'''\n",
    "# yData = np.array([0, 0, 0, 1, 1, 1, 1]) # 1행 7열 numpy 배열\n",
    "# reshape() : numpy에서 데이터는 그대로 유지한 채 배열의 형태(차원)을 변경합니다. 1행 7열 numpy 배열 -> 7행 1열 numpy 배열\n",
    "yData = np.array([0, 0, 0, 1, 1, 1, 1]).reshape(7, 1)\n",
    "print(yData)\n",
    "print(type(yData)) # <class 'numpy.ndarray'>"
   ]
  },
  {
   "cell_type": "code",
   "execution_count": 14,
   "metadata": {},
   "outputs": [],
   "source": [
    "# xData와 yData를 저장할 placeholder를 만듭니다.\n",
    "# placeholder에 numpy 배열이 대입되는 경우 shape 속성을 이용해 대입되는 numpy 배열의 차원을 지정해야 합니다.\n",
    "# [None, 2] -> numpy 행의 개수는 몇개라도 상관없고 열의 개수는 2개입니다.\n",
    "X = tf.placeholder(dtype=tf.float64, shape=[None, 2]) # xData가 대입될 placeholder\n",
    "Y = tf.placeholder(dtype=tf.float64, shape=[None, 1]) # xData가 대입될 placeholder"
   ]
  },
  {
   "cell_type": "code",
   "execution_count": 15,
   "metadata": {},
   "outputs": [],
   "source": [
    "# 기울기(가중치) a와 y절편(바이어스) b의 값을 임의(random)로 정합니다.\n",
    "a = tf.Variable(tf.random_uniform([2, 1], dtype=tf.float64)) # 난수를 2행 1열로 발생시킵니다.\n",
    "b = tf.Variable(tf.random_uniform([1], dtype=tf.float64))"
   ]
  },
  {
   "cell_type": "code",
   "execution_count": 16,
   "metadata": {},
   "outputs": [],
   "source": [
    "# 시그모이드 방정식을 만듭니다.\n",
    "# tf.matmul(X, a) : tensorflow에서 행렬의 곱셈을 계산하는 함수 -> 행렬 X([공부시간, 과외시간])에 행렬 a(가중치)를 곱합니다.\n",
    "# tf.sigmoid() : tensorflow에서 시그모이드 방정식을 계산하는 함수\n",
    "y = tf.sigmoid(tf.matmul(X, a) + b)\n",
    "\n",
    "# 오차 함수\n",
    "loss = -tf.reduce_mean(Y * tf.log(y) + (1-Y) * tf.log(1-y))\n",
    "# 경사 하강 알고리즘을 이용해서 오차 함수의 실행 결과를 최소로 하는 값을 찾도록 하는 식을 만듭니다.\n",
    "gradient_descent = tf.train.GradientDescentOptimizer(0.1).minimize(loss)\n"
   ]
  },
  {
   "cell_type": "code",
   "execution_count": 18,
   "metadata": {},
   "outputs": [],
   "source": [
    "# sigmoid() 함수의 실행 결과(y) 값이 0.5 이상이면 1을 0.5 미만이면 0을 리턴시킵니다.\n",
    "# tf.cast(캐스팅 할 데이터, dtype=캐스팅 될 데이터 타입) : tensorflow에서 형변환을 실행하는 함수\n",
    "# predicted = tf.cast(tf.constant([1.9, 2.1]), tf.int32) # [1, 2] -> 실수(부동 소수점 데이터)를 정수형 데이터로 변환합니다.\n",
    "# cast() 함수의 캐스팅 할 데이터가 boolean 타입이면 True는 1로 False는 0으로 캐스팅합니다.\n",
    "# predicted = tf.cast(0.4 >= 0.5, dtype=tf.float64) # 조건 비교 결과가 False이므로 0.0으로 캐스팅 됩니다.\n",
    "# predicted = tf.cast(0.4 <= 0.5, dtype=tf.float64) # 조건 비교 결과가 True이므로 1.0으로 캐스팅 됩니다.\n",
    "\n",
    "predicted = tf.cast(y >= 0.5, dtype = tf.float64) # 예상값, sigmoid() 함수의 실행 결과(y)를 0과 1로 기억시킵니다.\n",
    "\n",
    "# 예상값이 실제값과 일치하는 정확도를 계산합니다.\n",
    "# tf.eaual() : tensorflow에서 인수로 지정된 값이 같으면 True, 다르면 False를 리턴하는 함수\n",
    "# equal() 함수로 예상값(predicted)과 실제값(Y)이 같은지 비교 후 True 또는 False 결과를 tf.float64로 캐스팅 시키고 전체 평균을 계산합니다.\n",
    "\n",
    "accuracy = tf.reduce_mean(tf.cast(tf.equal(predicted, Y), dtype=tf.float64)) # 정확도"
   ]
  },
  {
   "cell_type": "code",
   "execution_count": 29,
   "metadata": {},
   "outputs": [
    {
     "name": "stdout",
     "output_type": "stream",
     "text": [
      "공부 시간 : 6, 과외 시간 : 5\n",
      "합격 여부(sigmoid() 함수 실행 결과를 0.5 이상은 1, 미만은 0으로 변환합니다.) : 1, 합격 확률(sigmoid() 함수 실행 결과) : 0.684702\n",
      "공부 시간 : 0, 과외 시간 :  0, 합격 여부 : 불합격, 합격 확률 :   0.0000%\n",
      "공부 시간 : 0, 과외 시간 :  1, 합격 여부 : 불합격, 합격 확률 :   0.0005%\n",
      "공부 시간 : 0, 과외 시간 :  2, 합격 여부 : 불합격, 합격 확률 :   0.0357%\n",
      "공부 시간 : 0, 과외 시간 :  3, 합격 여부 : 불합격, 합격 확률 :   2.2824%\n",
      "공부 시간 : 0, 과외 시간 :  4, 합격 여부 :  합격, 합격 확률 :  60.4616%\n",
      "공부 시간 : 0, 과외 시간 :  5, 합격 여부 :  합격, 합격 확률 :  99.0110%\n",
      "공부 시간 : 0, 과외 시간 :  6, 합격 여부 :  합격, 합격 확률 :  99.9847%\n",
      "공부 시간 : 0, 과외 시간 :  7, 합격 여부 :  합격, 합격 확률 :  99.9998%\n",
      "공부 시간 : 0, 과외 시간 :  8, 합격 여부 :  합격, 합격 확률 : 100.0000%\n",
      "공부 시간 : 0, 과외 시간 :  9, 합격 여부 :  합격, 합격 확률 : 100.0000%\n",
      "공부 시간 : 0, 과외 시간 : 10, 합격 여부 :  합격, 합격 확률 : 100.0000%\n"
     ]
    }
   ],
   "source": [
    "# 학습시킵니다.\n",
    "with tf.Session() as sess:\n",
    "    sess.run(tf.global_variables_initializer()) # tensorflow 변수를 초기화 시킵니다.\n",
    "    for i in range(20001):\n",
    "        # sess.run([기울기, y절편, 오차함수, 경사하강], feed_dict = {X: 입력데이터, Y: 실제값})\n",
    "        a_, b_, loss_, _ = sess.run([a, b, loss, gradient_descent], feed_dict = {X: xData, Y: yData})\n",
    "        '''\n",
    "        if i % 300 == 0:\n",
    "            # Epoch : 학습횟수, a1 : 기울기(공부시간), a2 : 기울기(과외시간), b : y절편, loss : 오차함수\n",
    "            print('Epoch = {}, a1 = {}, a2 = {}, b = {}, loss = {}'.format(i, a_[0], a_[1], b_, loss_))\n",
    "        '''\n",
    "# 학습 완료 ==========================================================================================\n",
    "    # 테스트 데이터를 만듭니다.\n",
    "    # new_x = np.array([6, 5]) # 테스트 데이터가 1차원 numpy 배열이기 때문에 행렬의 곱셈 연산이 실행되지 않습니다.\n",
    "    # print(new_x)\n",
    "    new_x = np.array([6,5]).reshape(1, 2) # reshape() 함수를 이용해서 1행 2열인 2차원 numpy 배열을 만듭니다.\n",
    "    # print(new_x)\n",
    "\n",
    "    # sigmoid() 함수 연산 결과에 테스트 데이터를 대입시켜 연산합니다.\n",
    "    result, new_y = sess.run([predicted, y], feed_dict = {X: new_x}) # result : 합격여부, new_y : 합격 확률\n",
    "    print('공부 시간 : %d, 과외 시간 : %d' % (new_x[:, 0], new_x[:, 1]))\n",
    "    print('합격 여부(sigmoid() 함수 실행 결과를 0.5 이상은 1, 미만은 0으로 변환합니다.) : %d, 합격 확률(sigmoid() 함수 실행 결과) : %f' % (result, new_y))\n",
    "\n",
    "    for i in range(11):\n",
    "        new_x = np.array([0, i]).reshape(1, 2)\n",
    "        result, new_y = sess.run([predicted, y], feed_dict={X: new_x})\n",
    "        print('공부 시간 : %d, 과외 시간 : %2d' % (new_x[:, 0], new_x[:, 1]), end = ', ')\n",
    "        print('합격 여부 : %s, 합격 확률 : %8.4f%%' % (' 합격' if result == 1 else '불합격', new_y * 100))"
   ]
  },
  {
   "cell_type": "code",
   "execution_count": 27,
   "metadata": {
    "collapsed": true
   },
   "outputs": [
    {
     "name": "stdout",
     "output_type": "stream",
     "text": [
      "[[6 5]]\n"
     ]
    },
    {
     "ename": "RuntimeError",
     "evalue": "Attempted to use a closed Session.",
     "output_type": "error",
     "traceback": [
      "\u001b[1;31m---------------------------------------------------------------------------\u001b[0m",
      "\u001b[1;31mRuntimeError\u001b[0m                              Traceback (most recent call last)",
      "\u001b[1;32m<ipython-input-27-8e8fc9869ec6>\u001b[0m in \u001b[0;36m<module>\u001b[1;34m\u001b[0m\n\u001b[0;32m      6\u001b[0m \u001b[1;33m\u001b[0m\u001b[0m\n\u001b[0;32m      7\u001b[0m \u001b[1;31m# sigmoid() 함수 연산 결과에 테스트 데이터를 대입시켜 연산합니다.\u001b[0m\u001b[1;33m\u001b[0m\u001b[1;33m\u001b[0m\u001b[1;33m\u001b[0m\u001b[0m\n\u001b[1;32m----> 8\u001b[1;33m \u001b[0mresult\u001b[0m\u001b[1;33m,\u001b[0m \u001b[0mnew_y\u001b[0m \u001b[1;33m=\u001b[0m \u001b[0msess\u001b[0m\u001b[1;33m.\u001b[0m\u001b[0mrun\u001b[0m\u001b[1;33m(\u001b[0m\u001b[1;33m[\u001b[0m\u001b[0mpredicted\u001b[0m\u001b[1;33m,\u001b[0m \u001b[0my\u001b[0m\u001b[1;33m]\u001b[0m\u001b[1;33m,\u001b[0m \u001b[0mfeed_dict\u001b[0m \u001b[1;33m=\u001b[0m \u001b[1;33m{\u001b[0m\u001b[0mX\u001b[0m\u001b[1;33m:\u001b[0m \u001b[0mnew_x\u001b[0m\u001b[1;33m}\u001b[0m\u001b[1;33m)\u001b[0m \u001b[1;31m# result : 합격여부, new_y : 합격 확률\u001b[0m\u001b[1;33m\u001b[0m\u001b[1;33m\u001b[0m\u001b[0m\n\u001b[0m\u001b[0;32m      9\u001b[0m \u001b[0mprint\u001b[0m\u001b[1;33m(\u001b[0m\u001b[1;34m'공부 시간 : %d, 과외 시간 : %d'\u001b[0m \u001b[1;33m%\u001b[0m \u001b[1;33m(\u001b[0m\u001b[0mnew_x\u001b[0m\u001b[1;33m[\u001b[0m\u001b[1;33m:\u001b[0m\u001b[1;33m,\u001b[0m \u001b[1;36m0\u001b[0m\u001b[1;33m]\u001b[0m\u001b[1;33m,\u001b[0m \u001b[0mnew_x\u001b[0m\u001b[1;33m[\u001b[0m\u001b[1;33m:\u001b[0m\u001b[1;33m,\u001b[0m \u001b[1;36m1\u001b[0m\u001b[1;33m]\u001b[0m\u001b[1;33m)\u001b[0m\u001b[1;33m)\u001b[0m\u001b[1;33m\u001b[0m\u001b[1;33m\u001b[0m\u001b[0m\n\u001b[0;32m     10\u001b[0m \u001b[0mprint\u001b[0m\u001b[1;33m(\u001b[0m\u001b[1;34m'합격 여부(sigmoid() 함수 실행 결과를 0.5 이상은 1, 미만은 0으로 변환합니다.) : %d, 합격 확률(sigmoid() 함수 실행 결과) : %f'\u001b[0m \u001b[1;33m%\u001b[0m \u001b[1;33m(\u001b[0m\u001b[0mresult\u001b[0m\u001b[1;33m,\u001b[0m \u001b[0mnew_y\u001b[0m\u001b[1;33m)\u001b[0m\u001b[1;33m)\u001b[0m\u001b[1;33m\u001b[0m\u001b[1;33m\u001b[0m\u001b[0m\n",
      "\u001b[1;32mC:\\ryuzy\\Anaconda3\\envs\\bigdata\\lib\\site-packages\\tensorflow_core\\python\\client\\session.py\u001b[0m in \u001b[0;36mrun\u001b[1;34m(self, fetches, feed_dict, options, run_metadata)\u001b[0m\n\u001b[0;32m    954\u001b[0m     \u001b[1;32mtry\u001b[0m\u001b[1;33m:\u001b[0m\u001b[1;33m\u001b[0m\u001b[1;33m\u001b[0m\u001b[0m\n\u001b[0;32m    955\u001b[0m       result = self._run(None, fetches, feed_dict, options_ptr,\n\u001b[1;32m--> 956\u001b[1;33m                          run_metadata_ptr)\n\u001b[0m\u001b[0;32m    957\u001b[0m       \u001b[1;32mif\u001b[0m \u001b[0mrun_metadata\u001b[0m\u001b[1;33m:\u001b[0m\u001b[1;33m\u001b[0m\u001b[1;33m\u001b[0m\u001b[0m\n\u001b[0;32m    958\u001b[0m         \u001b[0mproto_data\u001b[0m \u001b[1;33m=\u001b[0m \u001b[0mtf_session\u001b[0m\u001b[1;33m.\u001b[0m\u001b[0mTF_GetBuffer\u001b[0m\u001b[1;33m(\u001b[0m\u001b[0mrun_metadata_ptr\u001b[0m\u001b[1;33m)\u001b[0m\u001b[1;33m\u001b[0m\u001b[1;33m\u001b[0m\u001b[0m\n",
      "\u001b[1;32mC:\\ryuzy\\Anaconda3\\envs\\bigdata\\lib\\site-packages\\tensorflow_core\\python\\client\\session.py\u001b[0m in \u001b[0;36m_run\u001b[1;34m(self, handle, fetches, feed_dict, options, run_metadata)\u001b[0m\n\u001b[0;32m   1101\u001b[0m     \u001b[1;31m# Check session.\u001b[0m\u001b[1;33m\u001b[0m\u001b[1;33m\u001b[0m\u001b[1;33m\u001b[0m\u001b[0m\n\u001b[0;32m   1102\u001b[0m     \u001b[1;32mif\u001b[0m \u001b[0mself\u001b[0m\u001b[1;33m.\u001b[0m\u001b[0m_closed\u001b[0m\u001b[1;33m:\u001b[0m\u001b[1;33m\u001b[0m\u001b[1;33m\u001b[0m\u001b[0m\n\u001b[1;32m-> 1103\u001b[1;33m       \u001b[1;32mraise\u001b[0m \u001b[0mRuntimeError\u001b[0m\u001b[1;33m(\u001b[0m\u001b[1;34m'Attempted to use a closed Session.'\u001b[0m\u001b[1;33m)\u001b[0m\u001b[1;33m\u001b[0m\u001b[1;33m\u001b[0m\u001b[0m\n\u001b[0m\u001b[0;32m   1104\u001b[0m     \u001b[1;32mif\u001b[0m \u001b[0mself\u001b[0m\u001b[1;33m.\u001b[0m\u001b[0mgraph\u001b[0m\u001b[1;33m.\u001b[0m\u001b[0mversion\u001b[0m \u001b[1;33m==\u001b[0m \u001b[1;36m0\u001b[0m\u001b[1;33m:\u001b[0m\u001b[1;33m\u001b[0m\u001b[1;33m\u001b[0m\u001b[0m\n\u001b[0;32m   1105\u001b[0m       raise RuntimeError('The Session graph is empty.  Add operations to the '\n",
      "\u001b[1;31mRuntimeError\u001b[0m: Attempted to use a closed Session."
     ]
    }
   ],
   "source": [
    "\n",
    "    \n",
    "    \n",
    "    \n",
    "    \n",
    "    \n",
    "    \n",
    "    \n",
    "    \n",
    "    \n",
    "    \n",
    "    \n",
    "    "
   ]
  }
 ],
 "metadata": {
  "kernelspec": {
   "display_name": "Python 3",
   "language": "python",
   "name": "python3"
  },
  "language_info": {
   "codemirror_mode": {
    "name": "ipython",
    "version": 3
   },
   "file_extension": ".py",
   "mimetype": "text/x-python",
   "name": "python",
   "nbconvert_exporter": "python",
   "pygments_lexer": "ipython3",
   "version": "3.6.10"
  }
 },
 "nbformat": 4,
 "nbformat_minor": 2
}
