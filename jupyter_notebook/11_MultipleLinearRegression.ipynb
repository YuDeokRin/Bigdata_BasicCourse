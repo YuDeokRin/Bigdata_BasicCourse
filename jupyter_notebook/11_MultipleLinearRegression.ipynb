{
 "cells": [
  {
   "cell_type": "markdown",
   "metadata": {},
   "source": [
    "# 다중 선형 회귀 분석(Multiple Linear Regression)\n"
   ]
  },
  {
   "cell_type": "code",
   "execution_count": 1,
   "metadata": {},
   "outputs": [
    {
     "name": "stdout",
     "output_type": "stream",
     "text": [
      "WARNING:tensorflow:From C:\\bigdata\\anaconda3\\envs\\bigdata\\lib\\site-packages\\tensorflow_core\\python\\compat\\v2_compat.py:88: disable_resource_variables (from tensorflow.python.ops.variable_scope) is deprecated and will be removed in a future version.\n",
      "Instructions for updating:\n",
      "non-resource variables are not supported in the long term\n"
     ]
    }
   ],
   "source": [
    "import tensorflow.compat.v1 as tf\n",
    "tf.disable_v2_behavior()"
   ]
  },
  {
   "cell_type": "code",
   "execution_count": 2,
   "metadata": {},
   "outputs": [],
   "source": [
    "data = [[2, 0, 81], [4, 4, 93], [6, 2, 91], [8, 3, 97]] # [공부한 시간(x1), 과외 수업 시간(x2), 실제 성적(y)]\n",
    "xData1 = [i[0] for i in data] # 공부한 시간\n",
    "xData2 = [i[1] for i in data] # 과외 수업 시간\n",
    "yData = [i[2] for i in data] # 실제 성적"
   ]
  },
  {
   "cell_type": "code",
   "execution_count": 3,
   "metadata": {},
   "outputs": [],
   "source": [
    "a1 = tf.Variable(tf.random_uniform([1], 0, 10, dtype=tf.float32))\n",
    "a2 = tf.Variable(tf.random_uniform([1], 0, 10, dtype=tf.float32))\n",
    "b = tf.Variable(tf.random_uniform([1], 0, 100, dtype=tf.float32))"
   ]
  },
  {
   "cell_type": "code",
   "execution_count": 4,
   "metadata": {},
   "outputs": [],
   "source": [
    "y = a1 * xData1 + a2 * xData2 + b\n",
    "rmse = tf.sqrt(tf.reduce_mean(tf.square(y - yData)))\n",
    "gradient_descent = tf.train.GradientDescentOptimizer(0.1).minimize(rmse)"
   ]
  },
  {
   "cell_type": "code",
   "execution_count": 5,
   "metadata": {},
   "outputs": [
    {
     "name": "stdout",
     "output_type": "stream",
     "text": [
      "Epoch :    0, RMSE : 27.5655, 기울기(a1) :  0.8670, 기울기(a2) :  7.7832, y절편 : 95.1829\n",
      "Epoch :  100, RMSE :  5.4290, 기울기(a1) : -0.7243, 기울기(a2) :  2.2517, y절편 : 91.1523\n",
      "Epoch :  200, RMSE :  3.7916, 기울기(a1) :  0.1190, 기울기(a2) :  1.8450, y절편 : 87.2417\n",
      "Epoch :  300, RMSE :  2.2186, 기울기(a1) :  0.7039, 기울기(a2) :  2.0112, y절편 : 83.3226\n",
      "Epoch :  400, RMSE :  1.8345, 기울기(a1) :  0.9457, 기울기(a2) :  2.0688, y절편 : 80.0055\n",
      "Epoch :  500, RMSE :  1.8367, 기울기(a1) :  1.1020, 기울기(a2) :  2.1197, y절편 : 78.7314\n",
      "Epoch :  600, RMSE :  1.8369, 기울기(a1) :  1.1749, 기울기(a2) :  2.1443, y절편 : 78.1978\n",
      "Epoch :  700, RMSE :  1.8370, 기울기(a1) :  1.2067, 기울기(a2) :  2.1552, y절편 : 77.9738\n",
      "Epoch :  800, RMSE :  1.8370, 기울기(a1) :  1.2202, 기울기(a2) :  2.1599, y절편 : 77.8798\n",
      "Epoch :  900, RMSE :  1.8370, 기울기(a1) :  1.2259, 기울기(a2) :  2.1618, y절편 : 77.8403\n",
      "Epoch : 1000, RMSE :  1.8370, 기울기(a1) :  1.2283, 기울기(a2) :  2.1627, y절편 : 77.8237\n",
      "Epoch : 1100, RMSE :  1.8370, 기울기(a1) :  1.2294, 기울기(a2) :  2.1630, y절편 : 77.8167\n",
      "Epoch : 1200, RMSE :  1.8370, 기울기(a1) :  1.2298, 기울기(a2) :  2.1632, y절편 : 77.8138\n",
      "Epoch : 1300, RMSE :  1.8370, 기울기(a1) :  1.2300, 기울기(a2) :  2.1632, y절편 : 77.8126\n",
      "Epoch : 1400, RMSE :  1.8370, 기울기(a1) :  1.2300, 기울기(a2) :  2.1632, y절편 : 77.8121\n",
      "Epoch : 1500, RMSE :  1.8370, 기울기(a1) :  1.2301, 기울기(a2) :  2.1633, y절편 : 77.8121\n",
      "Epoch : 1600, RMSE :  1.8370, 기울기(a1) :  1.2301, 기울기(a2) :  2.1633, y절편 : 77.8121\n",
      "Epoch : 1700, RMSE :  1.8370, 기울기(a1) :  1.2301, 기울기(a2) :  2.1633, y절편 : 77.8121\n",
      "Epoch : 1800, RMSE :  1.8370, 기울기(a1) :  1.2301, 기울기(a2) :  2.1633, y절편 : 77.8121\n",
      "Epoch : 1900, RMSE :  1.8370, 기울기(a1) :  1.2301, 기울기(a2) :  2.1633, y절편 : 77.8121\n",
      "Epoch : 2000, RMSE :  1.8370, 기울기(a1) :  1.2301, 기울기(a2) :  2.1633, y절편 : 77.8121\n",
      "Epoch : 2100, RMSE :  1.8370, 기울기(a1) :  1.2301, 기울기(a2) :  2.1633, y절편 : 77.8121\n",
      "Epoch : 2200, RMSE :  1.8370, 기울기(a1) :  1.2301, 기울기(a2) :  2.1633, y절편 : 77.8121\n",
      "Epoch : 2300, RMSE :  1.8370, 기울기(a1) :  1.2301, 기울기(a2) :  2.1633, y절편 : 77.8121\n",
      "Epoch : 2400, RMSE :  1.8370, 기울기(a1) :  1.2301, 기울기(a2) :  2.1633, y절편 : 77.8121\n",
      "Epoch : 2500, RMSE :  1.8370, 기울기(a1) :  1.2301, 기울기(a2) :  2.1633, y절편 : 77.8121\n",
      "Epoch : 2600, RMSE :  1.8370, 기울기(a1) :  1.2301, 기울기(a2) :  2.1633, y절편 : 77.8121\n",
      "Epoch : 2700, RMSE :  1.8370, 기울기(a1) :  1.2301, 기울기(a2) :  2.1633, y절편 : 77.8121\n",
      "Epoch : 2800, RMSE :  1.8370, 기울기(a1) :  1.2301, 기울기(a2) :  2.1633, y절편 : 77.8121\n",
      "Epoch : 2900, RMSE :  1.8370, 기울기(a1) :  1.2301, 기울기(a2) :  2.1633, y절편 : 77.8121\n",
      "Epoch : 3000, RMSE :  1.8370, 기울기(a1) :  1.2301, 기울기(a2) :  2.1633, y절편 : 77.8121\n",
      "Epoch : 3100, RMSE :  1.8370, 기울기(a1) :  1.2301, 기울기(a2) :  2.1633, y절편 : 77.8121\n",
      "Epoch : 3200, RMSE :  1.8370, 기울기(a1) :  1.2301, 기울기(a2) :  2.1633, y절편 : 77.8121\n",
      "Epoch : 3300, RMSE :  1.8370, 기울기(a1) :  1.2301, 기울기(a2) :  2.1633, y절편 : 77.8121\n",
      "Epoch : 3400, RMSE :  1.8370, 기울기(a1) :  1.2301, 기울기(a2) :  2.1633, y절편 : 77.8121\n",
      "Epoch : 3500, RMSE :  1.8370, 기울기(a1) :  1.2301, 기울기(a2) :  2.1633, y절편 : 77.8121\n",
      "Epoch : 3600, RMSE :  1.8370, 기울기(a1) :  1.2301, 기울기(a2) :  2.1633, y절편 : 77.8121\n",
      "Epoch : 3700, RMSE :  1.8370, 기울기(a1) :  1.2301, 기울기(a2) :  2.1633, y절편 : 77.8121\n",
      "Epoch : 3800, RMSE :  1.8370, 기울기(a1) :  1.2301, 기울기(a2) :  2.1633, y절편 : 77.8121\n",
      "Epoch : 3900, RMSE :  1.8370, 기울기(a1) :  1.2301, 기울기(a2) :  2.1633, y절편 : 77.8121\n",
      "Epoch : 4000, RMSE :  1.8370, 기울기(a1) :  1.2301, 기울기(a2) :  2.1633, y절편 : 77.8121\n"
     ]
    }
   ],
   "source": [
    "import time\n",
    "\n",
    "with tf.Session() as sess:\n",
    "    # 변수를 초기화\n",
    "    sess.run(tf.global_variables_initializer())\n",
    "    # 4001번 반복하며 학습\n",
    "    for i in range(4001):\n",
    "        sess.run(gradient_descent)\n",
    "        \n",
    "        if i % 100 == 0:\n",
    "            print('Epoch : %4d, RMSE : %7.4f, 기울기(a1) : %7.4f, 기울기(a2) : %7.4f, y절편 : %7.4f' % (i, sess.run(rmse), sess.run(a1), sess.run(a2), sess.run(b)))\n",
    "            time.sleep(0.5)"
   ]
  }
 ],
 "metadata": {
  "kernelspec": {
   "display_name": "Python 3",
   "language": "python",
   "name": "python3"
  },
  "language_info": {
   "codemirror_mode": {
    "name": "ipython",
    "version": 3
   },
   "file_extension": ".py",
   "mimetype": "text/x-python",
   "name": "python",
   "nbconvert_exporter": "python",
   "pygments_lexer": "ipython3",
   "version": "3.6.10"
  }
 },
 "nbformat": 4,
 "nbformat_minor": 2
}
