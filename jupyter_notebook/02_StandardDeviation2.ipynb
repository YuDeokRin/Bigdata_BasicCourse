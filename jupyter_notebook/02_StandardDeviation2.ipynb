{
 "cells": [
  {
   "cell_type": "markdown",
   "metadata": {},
   "source": [
    "# 선택 정렬 반복 알고리즘을 이용하여 내림차순(큰 점수가 1등) 석차를 계산하는 프로그램을 작성"
   ]
  },
  {
   "cell_type": "code",
   "execution_count": 3,
   "metadata": {},
   "outputs": [
    {
     "name": "stdout",
     "output_type": "stream",
     "text": [
      " 15점은 5등 입니다.\n",
      " 95점은 2등 입니다.\n",
      " 94점은 3등 입니다.\n",
      "100점은 1등 입니다.\n",
      " 85점은 4등 입니다.\n"
     ]
    }
   ],
   "source": [
    "score = [15, 95, 94, 100, 85]\n",
    "rank = [1, 1, 1, 1, 1] # 석차를 기억하는 리스트\n",
    "# [5, 2, 3, 1, 4]\n",
    "'''\n",
    "15점은 5등입니다.\n",
    "95점은 2등입니다.\n",
    "94점은 3등입니다.\n",
    "100점은 1등입니다.\n",
    "85점은 4등입니다.\n",
    "'''\n",
    "\n",
    "for i in range(len(score)-1): # 15,95, 94,100, 85\n",
    "    for j in range(i+1, len(score)): # 85\n",
    "        # i번째 점수가 크면 j번째 석차를 1증가 시키고, j번째 점수가 크면 i번째 석차를 1증가 시킵니다.\n",
    "        if score[i] > score[j]:\n",
    "            rank[j] += 1\n",
    "        elif score[i] < score[j]:\n",
    "            rank[i] += 1\n",
    "\n",
    "for i in range(len(score)):\n",
    "    print('{0:3d}점은 {1}등 입니다.'.format(score[i], rank[i]))        "
   ]
  },
  {
   "cell_type": "markdown",
   "metadata": {},
   "source": [
    "# n개의 데이터를 입력받아 최대값과 최소값을 제외한 나머지 데이터의 표준편차를 계산하는 프로그램을 작성\n",
    "$$\\sqrt{\\frac{\\sum_{k=1}^N (x_i - \\bar{x})^2}{n}}$$"
   ]
  },
  {
   "cell_type": "code",
   "execution_count": 1,
   "metadata": {},
   "outputs": [
    {
     "name": "stdout",
     "output_type": "stream",
     "text": [
      "표준편차를 계산할 데이터의 개수를 입력하세요.5\n",
      "1번째 데이터 : 50\n",
      "2번째 데이터 : 60\n",
      "3번째 데이터 : 10\n",
      "4번째 데이터 : 90\n",
      "5번째 데이터 : 80\n",
      "[50, 60, 10, 90, 80]\n"
     ]
    }
   ],
   "source": [
    "# 표준편차를 계산할 데이터의 개수를 입력하고 입력받은 개수만큼 데이터를 입력 받습니다.\n",
    "n = int(input('표준편차를 계산할 데이터의 개수를 입력하세요.'))\n",
    "score = [0 for i in range(n)]\n",
    "for i in range(n):\n",
    "    data = int(input(\"{}번째 데이터 : \".format(i+1)))\n",
    "    score[i] = data\n",
    "print(score)"
   ]
  },
  {
   "cell_type": "code",
   "execution_count": 2,
   "metadata": {},
   "outputs": [
    {
     "name": "stdout",
     "output_type": "stream",
     "text": [
      "[10, 50, 60, 80, 90]\n"
     ]
    }
   ],
   "source": [
    "# 입력받은 데이터를 오름차순 정렬합니다. -> 0번째 데이터가 최소값, 마지막 데이터가 최대값\n",
    "for i in range(len(score)-1):\n",
    "    for j in range(i+1, len(score)):\n",
    "        if score[i] > score[j]:\n",
    "            score[i], score[j] = score[j], score[i]\n",
    "print(score)"
   ]
  },
  {
   "cell_type": "code",
   "execution_count": 3,
   "metadata": {},
   "outputs": [
    {
     "name": "stdout",
     "output_type": "stream",
     "text": [
      "63.333333333333336\n"
     ]
    }
   ],
   "source": [
    "# 최대값과 최소값을 제외한 나머지 데이터의 평균을 계산합니다. -> 분산\n",
    "total = 0\n",
    "for i in range(1, len(score)-1):\n",
    "    total += score[i] # total = total + score[i]\n",
    "mean = total / (n-2)\n",
    "print(mean)"
   ]
  },
  {
   "cell_type": "code",
   "execution_count": 6,
   "metadata": {},
   "outputs": [
    {
     "name": "stdout",
     "output_type": "stream",
     "text": [
      "[10, 50, 60, 80, 90]에서 최대값 90, 최소값 10(을)를 제외한 데이터의 분산은 155.5556이고 표준편차는 12.4722입니다.\n"
     ]
    }
   ],
   "source": [
    "import math\n",
    "\n",
    "total = 0.0\n",
    "for i in range(1, len(score)-1):\n",
    "    total += (score[i] - mean) ** 2\n",
    "var = total / (n-2)\n",
    "# print(var)\n",
    "\n",
    "# 분산에 루트를 씌워주면 표준편차가 계산됩니다.\n",
    "std = math.sqrt(var)\n",
    "\n",
    "print(\"{0}에서 최대값 {1}, 최소값 {2}(을)를 제외한 데이터의 분산은 {3:6.4f}이고 표준편차는 {4:6.4f}입니다.\"\n",
    "      .format(score, score[n-1], score[0], var, std))"
   ]
  },
  {
   "cell_type": "code",
   "execution_count": 8,
   "metadata": {},
   "outputs": [
    {
     "name": "stdout",
     "output_type": "stream",
     "text": [
      "평균:63.333333333333336, 분산:155.55555555555554, 표준편차:12.47219128924647\n"
     ]
    }
   ],
   "source": [
    "# Numpy는 행렬이나 일반적으로 대규모 다차원 배열을 쉽게 처리할 수 있도록 지원하는 파이썬 라이브러리 입니다.\n",
    "# 데이터 구조 외에도 수치 계산을 위해 효율적으로 구현된 기능을 제공합니다.\n",
    "# pip install numpy\n",
    "\n",
    "import numpy as np\n",
    "# score = [10, 50, 60, 80, 90]\n",
    "score = [50, 60, 80]\n",
    "print(\"평균:{}, 분산:{}, 표준편차:{}\".format(np.mean(score), np.var(score), np.std(score)))\n",
    "\n",
    "\n"
   ]
  }
 ],
 "metadata": {
  "kernelspec": {
   "display_name": "Python 3",
   "language": "python",
   "name": "python3"
  },
  "language_info": {
   "codemirror_mode": {
    "name": "ipython",
    "version": 3
   },
   "file_extension": ".py",
   "mimetype": "text/x-python",
   "name": "python",
   "nbconvert_exporter": "python",
   "pygments_lexer": "ipython3",
   "version": "3.6.10"
  }
 },
 "nbformat": 4,
 "nbformat_minor": 2
}
