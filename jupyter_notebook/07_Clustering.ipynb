{
 "cells": [
  {
   "cell_type": "markdown",
   "metadata": {},
   "source": [
    "# Clustering(군집화)\n",
    "- 여러 개의 데이터가 있을 때 군집화 하는 것을 의미합니다.\n",
    "- 비슷한 데이터끼리 묶으면 관리하기가 쉽다는 장점이 생깁니다. 예를 들어 학원을 운영할 때 학생을 고급반, 중급반, 초급반으로 나눠 적절하게 분류한다면 데이터를 활용할 방안이 많이 생깁니다.\n",
    "- 비지도 학습 알고리즘은 프로그래머가 정확한 방향성을 주지 않더라도 알아서 학습이 가능한 알고리즘으로 데이터를 군집화하는 알고리즘들이 비지도 학습에 속합니다. 대표적인 알고리즘은 KMeans 입니다."
   ]
  },
  {
   "cell_type": "markdown",
   "metadata": {},
   "source": [
    "# 군집화에 필요한 라이브러리를 import 합니다.\n",
    "- numpy : 배열 처리를 쉽게 해주는 파이썬 패키지\n",
    "- pandas : 데이터 관리를 쉡게 해주는파이썬 패키지\n",
    "- matplotlib : 그래프 작성에 사용하는 파이썬 패키지\n",
    "- seaborn : matplotlib를 기반으로 그래프를 좀 더 보기 좋게 구현하는 파이썬 패키지\n",
    "- sklearn : 머신러닝 알고리즘을 모아놓은 파이썬 패키지"
   ]
  },
  {
   "cell_type": "code",
   "execution_count": 5,
   "metadata": {},
   "outputs": [],
   "source": [
    "import numpy as np\n",
    "import pandas as pd\n",
    "import matplotlib.pyplot as plt\n",
    "import seaborn as sb\n",
    "from sklearn.cluster import KMeans\n",
    "\n",
    "# 쥬피터 노트북에서 그림, 소리, 애니메이션과 같은 결과물을 보여주기 위한 표현 방식(Rich output 표현방식)\n",
    "%matplotlib inline  "
   ]
  },
  {
   "cell_type": "code",
   "execution_count": 12,
   "metadata": {},
   "outputs": [
    {
     "name": "stdout",
     "output_type": "stream",
     "text": [
      "[[ 2  3]\n",
      " [ 2 11]\n",
      " [ 2 18]\n",
      " [ 4  5]\n",
      " [ 4  7]\n",
      " [ 5  3]\n",
      " [ 5 15]\n",
      " [ 6  6]\n",
      " [ 6  8]\n",
      " [ 6  9]\n",
      " [ 7  2]\n",
      " [ 7  4]\n",
      " [ 7  5]\n",
      " [ 7 17]\n",
      " [ 7 18]\n",
      " [ 8  5]\n",
      " [ 8  4]\n",
      " [ 9 10]\n",
      " [ 9 11]\n",
      " [ 9 15]\n",
      " [ 9 19]\n",
      " [10  5]\n",
      " [10  8]\n",
      " [10 18]\n",
      " [12  6]\n",
      " [13  5]\n",
      " [14 11]\n",
      " [15  6]\n",
      " [15 18]\n",
      " [18 12]]\n"
     ]
    }
   ],
   "source": [
    "#데이터 불러오기\n",
    "df = pd.read_csv('cluster.csv') \n",
    "# print(df)\n",
    "# print(df.head()) # head() : 데이터 프레임 앞쪽 데이터를 인수로 지정한 개수 만큼 출력합니다. 개수를 생략하면 5개가 기본값으로 시용됩니다.\n",
    "# print(df.tail()) # tail() : 데이터 프레임 앞쪽 데이터를 인수로 지정한 개수 만큼 출력합니다. 개수를 생략하면 5개가 기본값으로 시용됩니다.\n",
    "\n",
    "\n",
    "# print(type(df.values))  #<class 'numpy.ndarray'>\n",
    "# values : 데이터 프레임에 저장된 데이터만 numpy 타입으로 리턴합니다.\n",
    "# print(df.index)  # RangeIndex(start=0, stop=30, step=1)\n",
    "# index : 데이터 프레임의 인덱스를 리턴합니다. -> 행\n",
    "# print(df.columns) #Index(['x', 'y'], dtype='object')\n",
    "# colums : 데이터 프레임의 컬럼을 리턴합니다. -> 열\n",
    "\n",
    "\n",
    "# 데이터 프레임에서 numpy 타입의 Clustering 학습에 사용할 데이터를 가져옵니다.\n",
    "points = df.values\n",
    "print(points)"
   ]
  },
  {
   "cell_type": "code",
   "execution_count": 14,
   "metadata": {},
   "outputs": [
    {
     "data": {
      "image/png": "[encoded data removed]",
      "text/plain": [
       "<Figure size 360x360 with 1 Axes>"
      ]
     },
     "metadata": {
      "needs_background": "light"
     },
     "output_type": "display_data"
    }
   ],
   "source": [
    "# matplotlib와 seaborn 라이브러리를 사용해 Clustering을 실행할 데이터를 시각화합니다.\n",
    "# lmplot(): 데이터 프레임의 데이터를 x, y좌표를 사용하는 선점도 형태의 그래프를 작성합니다.\n",
    "# sb.lmplot('x축으로 사용할 열이름', 'y축으로 사용할 열이름', '데이터 프레임 이름')\n",
    "# fit_reg 옵션은 기본값이 True이고 회귀선 표시 유무를 지정하는데, 회귀선이 없는 그래프는 fig_reg 옵션을 사용하지 않거나 True를 사용하면\n",
    "#에러가 발생합니다. -> 회귀선이 필요 없는 차트는 fit_reg = false로 설정합니다.\n",
    "sb.lmplot('x','y', data=df, fit_reg=False, scatter_kws={'s':25})\n",
    "plt.title('kMeans Example') #그래프 제목\n",
    "plt.xlabel('x Label') # x 축 제목\n",
    "plt.ylabel('y Label') # y 축 제목\n",
    "pass # pass 없고 있고 차이 보기 "
   ]
  },
  {
   "cell_type": "code",
   "execution_count": 31,
   "metadata": {},
   "outputs": [
    {
     "name": "stdout",
     "output_type": "stream",
     "text": [
      "[[11.14285714  7.28571429]\n",
      " [ 5.53846154  5.53846154]\n",
      " [ 7.         17.14285714]\n",
      " [15.66666667 13.66666667]]\n",
      "[1 1 2 1 1 1 2 1 1 1 1 1 1 2 2 1 1 0 0 2 2 0 0 2 0 0 3 0 3 3]\n",
      "     x   y  cluster\n",
      "0    2   3        1\n",
      "1    2  11        1\n",
      "2    2  18        2\n",
      "3    4   5        1\n",
      "4    4   7        1\n",
      "5    5   3        1\n",
      "6    5  15        2\n",
      "7    6   6        1\n",
      "8    6   8        1\n",
      "9    6   9        1\n",
      "10   7   2        1\n",
      "11   7   4        1\n",
      "12   7   5        1\n",
      "13   7  17        2\n",
      "14   7  18        2\n",
      "15   8   5        1\n",
      "16   8   4        1\n",
      "17   9  10        0\n",
      "18   9  11        0\n",
      "19   9  15        2\n",
      "20   9  19        2\n",
      "21  10   5        0\n",
      "22  10   8        0\n",
      "23  10  18        2\n",
      "24  12   6        0\n",
      "25  13   5        0\n",
      "26  14  11        3\n",
      "27  15   6        0\n",
      "28  15  18        3\n",
      "29  18  12        3\n"
     ]
    }
   ],
   "source": [
    "# KMeans 알고리즘을 이용해 Cluster 4개를 생성합니다.\n",
    "# 별다른 설정을 하지 않으면 기본적으로 KMeans가 적용되므로 실행할 때마다 값이 변경될 수 있습니다.\n",
    "# sklearn 라이브러리의 KMeans() 함수를 이용해 데이터 프레임의 데이터를 학습시킵니다.\n",
    "# n_clusters : 군집화 할 cluster의 개수를 지정합니다.\n",
    "# KMeans() 함수의 n_clusters 속성으로 군집화 할 cluster의 개수를 지정하고 fit() 함수를 사용해 학습을 시킵니다.\n",
    "kmeans = KMeans(n_clusters=4).fit(points)\n",
    "# kmeans.cluster_centers_ : 각각의 cluster 중심 위치를 리턴합니다.\n",
    "print(kmeans.cluster_centers_) #각각 나뉘어진 구역(4구역)에 중심점만 가져온 것 \n",
    "# kmeans.labels_ : 각각의 데이터가 속한 cluster를 리턴합니다.\n",
    "print(kmeans.labels_)\n",
    "\n",
    "# df 데이터 프레임에 cluster라는 열을 추가하고 군집화된 결과를 저장합니다.\n",
    "df['cluster'] = kmeans.labels_  #cluster라는 열을 추가 \n",
    "print(df)\n",
    "\n",
    "#pandas 라이브러리의 to_csv() 함수를 이용해 데이터 프레임을 csv 파일로 저장합니다.\n",
    "df.to_csv('save.csv')\n",
    "\n",
    "\n",
    "\n",
    "\n"
   ]
  },
  {
   "cell_type": "code",
   "execution_count": 32,
   "metadata": {},
   "outputs": [
    {
     "data": {
      "image/png": "[encoded data removed]",
      "text/plain": [
       "<Figure size 402.375x360 with 1 Axes>"
      ]
     },
     "metadata": {
      "needs_background": "light"
     },
     "output_type": "display_data"
    }
   ],
   "source": [
    "# clustering된 결과를 시각화합니다.\n",
    "# 군집화된 결과를 hue 속성을 이용해 색으로 구분합니다.\n",
    "\n",
    "sb.lmplot('x','y', data=df, fit_reg=False, scatter_kws={'s':25},hue='cluster')\n",
    "plt.title('kMeans Example') #그래프 제목\n",
    "plt.xlabel('x Label') # x 축 제목\n",
    "plt.ylabel('y Label') # y 축 제목\n",
    "pass\n",
    "\n"
   ]
  }
 ],
 "metadata": {
  "kernelspec": {
   "display_name": "Python 3",
   "language": "python",
   "name": "python3"
  },
  "language_info": {
   "codemirror_mode": {
    "name": "ipython",
    "version": 3
   },
   "file_extension": ".py",
   "mimetype": "text/x-python",
   "name": "python",
   "nbconvert_exporter": "python",
   "pygments_lexer": "ipython3",
   "version": "3.6.10"
  }
 },
 "nbformat": 4,
 "nbformat_minor": 4
}
