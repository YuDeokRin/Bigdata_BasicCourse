{
 "cells": [
  {
   "cell_type": "code",
   "execution_count": 2,
   "metadata": {},
   "outputs": [
    {
     "name": "stdout",
     "output_type": "stream",
     "text": [
      "표준편차를 계산할 데이터의 개수를 입력하세요.5\n",
      "1번째 데이터 : 10\n",
      "2번째 데이터 : 20\n",
      "3번째 데이터 : 40\n",
      "4번째 데이터 : 5\n",
      "5번째 데이터 : 60\n",
      "[10, 20, 40, 5, 60]\n"
     ]
    }
   ],
   "source": [
    "\n",
    "n = int(input('표준편차를 계산할 데이터의 개수를 입력하세요.'))\n",
    "score = [ 0 for i in range(n)]\n",
    "for i in range(n):\n",
    "    data =  int(input(\"{}번째 데이터 : \".format(i+1)))\n",
    "    score[i] = data \n",
    "print(score)"
   ]
  },
  {
   "cell_type": "code",
   "execution_count": 2,
   "metadata": {},
   "outputs": [
    {
     "name": "stdout",
     "output_type": "stream",
     "text": [
      "[10, 20, 30, 40, 50]\n"
     ]
    }
   ],
   "source": [
    "#입력 \n",
    "for i in range(len(score)-1):\n",
    "    for j in range(i+1, len(score)):\n",
    "        if score[i] > score[j]:\n",
    "            score[i], score[j] = score[j], score[i]\n",
    "print(score)"
   ]
  },
  {
   "cell_type": "code",
   "execution_count": 4,
   "metadata": {},
   "outputs": [
    {
     "name": "stdout",
     "output_type": "stream",
     "text": [
      "63.333333333333336\n"
     ]
    }
   ],
   "source": [
    "#최대값과 최소값을 제외한 나머지 데이터의 평균을 계산합니다. -> 분산\n",
    "total = 0\n",
    "for i in range(1, len(score)-1):\n",
    "    total += score[i] #total = total + score[i]\n",
    "mean = total / (n-2)\n",
    "print(mean)\n",
    "\n",
    "\n",
    "\n",
    "\n",
    "\n"
   ]
  },
  {
   "cell_type": "code",
   "execution_count": 17,
   "metadata": {},
   "outputs": [
    {
     "name": "stdout",
     "output_type": "stream",
     "text": [
      "[10, 50, 60, 80, 90]에서 최대값90, 최소값10(을)를 제외한 데이터의 분산은155.5556이고 표준편차는12.4722입니다.\n"
     ]
    }
   ],
   "source": [
    "import math\n",
    "\n",
    "total = 0.0\n",
    "for i in range(1, len(score)-1):\n",
    "    total += (score[i] - mean) **2  \n",
    "var = total / (n-2)\n",
    "# print(var)    # var 실제 분산값\n",
    "\n",
    "\n",
    "#분산에 루트를 씌워주면 표준편차가 계산됩니다.\n",
    "std = math.sqrt(var)\n",
    "print(\"{0}에서 최대값{1}, 최소값{2}(을)를 제외한 데이터의 분산은{3:6.4f}이고 표준편차는{4:6.4f}입니다.\"\n",
    "      .format(score, score[n-1], score[0], var, std))\n",
    "\n"
   ]
  },
  {
   "cell_type": "code",
   "execution_count": 20,
   "metadata": {},
   "outputs": [
    {
     "name": "stdout",
     "output_type": "stream",
     "text": [
      "평균:63.333333333333336, 분산:155.55555555555554, 표준편차:12.47219128924647\n"
     ]
    }
   ],
   "source": [
    "# Numpy는 행렬이나 일반적으로 대규모 다차원 배열을 쉽게 처리할 수 있도록 지원하는 파이썬 라이브러리 입니다.\n",
    "#데이터 구조 외에도 수치 계산을 위해 효율적으로 구현되 기능을 제공합니다.\n",
    "# pip install numpy\n",
    "\n",
    "import numpy as np\n",
    "\n",
    "# score = [10,50, 60, 80, 90]\n",
    "score =  [50, 60, 80]\n",
    "print(\"평균:{}, 분산:{}, 표준편차:{}\".format(np.mean(score),np.var(score), np.std(score)))\n",
    "\n",
    "\n",
    "\n",
    "\n"
   ]
  }
 ],
 "metadata": {
  "kernelspec": {
   "display_name": "Python 3",
   "language": "python",
   "name": "python3"
  },
  "language_info": {
   "codemirror_mode": {
    "name": "ipython",
    "version": 3
   },
   "file_extension": ".py",
   "mimetype": "text/x-python",
   "name": "python",
   "nbconvert_exporter": "python",
   "pygments_lexer": "ipython3",
   "version": "3.6.4"
  }
 },
 "nbformat": 4,
 "nbformat_minor": 4
}
