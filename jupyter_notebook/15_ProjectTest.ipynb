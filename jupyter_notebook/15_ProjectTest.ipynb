{
 "cells": [
  {
   "cell_type": "markdown",
   "metadata": {},
   "source": [
    "# 학습 결과를 저장한 모델을 불러 실행합니다."
   ]
  },
  {
   "cell_type": "code",
   "execution_count": 5,
   "metadata": {},
   "outputs": [],
   "source": [
    "import tensorflow.compat.v1 as tf\n",
    "tf.disable_v2_behavior()\n",
    "import numpy as np"
   ]
  },
  {
   "cell_type": "code",
   "execution_count": 6,
   "metadata": {},
   "outputs": [],
   "source": [
    "X = tf.placeholder(dtype = tf.float32, shape = [None, 4])  # 변화요인(평균기온, 최저기온, 최고기온, 강수량)\n",
    "Y = tf.placeholder(dtype = tf.float32, shape = [None, 1])  # 가격(실제값)\n",
    "\n",
    "a = tf.Variable(tf.random_uniform([4, 1], dtype = tf.float32))  # 4행 1열을 난수로 발생시킵니다.\n",
    "b = tf.Variable(tf.random_uniform([1], dtype = tf.float32))  # y절편   값이 1개  \n",
    "\n",
    "y = tf.matmul(X, a) + b   # 예측값             행렬 * 기울기 + y절편"
   ]
  },
  {
   "cell_type": "code",
   "execution_count": 7,
   "metadata": {},
   "outputs": [
    {
     "name": "stdout",
     "output_type": "stream",
     "text": [
      "평균 온도 : 10\n",
      "최저 온도 : 15\n",
      "최고 온도 : 20\n",
      "강수량 : 25\n"
     ]
    }
   ],
   "source": [
    "# 배추 가격을 결정하는 4가지 변화 요인을 입력받습니다.\n",
    "avgTemp = float(input('평균 온도 : '))\n",
    "minTemp = float(input('최저 온도 : '))\n",
    "maxTemp = float(input('최고 온도 : '))\n",
    "rainFall= float(input('강수량 : '))"
   ]
  },
  {
   "cell_type": "code",
   "execution_count": 4,
   "metadata": {},
   "outputs": [
    {
     "ename": "ValueError",
     "evalue": "The passed save_path is not a valid checkpoint: ./saved.ckpt",
     "output_type": "error",
     "traceback": [
      "\u001b[1;31m---------------------------------------------------------------------------\u001b[0m",
      "\u001b[1;31mValueError\u001b[0m                                Traceback (most recent call last)",
      "\u001b[1;32m<ipython-input-4-7b010a0d7513>\u001b[0m in \u001b[0;36m<module>\u001b[1;34m\u001b[0m\n\u001b[0;32m      7\u001b[0m     \u001b[1;31m# 정상적으로 결과가 출력될 때 학습에 사용하는 변수를 다시 선언하면 학습 모델을 restore() 함수를 사용해 읽어올 때 오류가 발생합니다.\u001b[0m\u001b[1;33m\u001b[0m\u001b[1;33m\u001b[0m\u001b[1;33m\u001b[0m\u001b[0m\n\u001b[0;32m      8\u001b[0m     \u001b[1;31m# restore() 함수를 사용해 학습 모델을 읽어올 때 오류가 발생하면 쥬피터 노트북을 종료하고 다시 실행합니다.\u001b[0m\u001b[1;33m\u001b[0m\u001b[1;33m\u001b[0m\u001b[1;33m\u001b[0m\u001b[0m\n\u001b[1;32m----> 9\u001b[1;33m     \u001b[0msaver\u001b[0m\u001b[1;33m.\u001b[0m\u001b[0mrestore\u001b[0m\u001b[1;33m(\u001b[0m\u001b[0msess\u001b[0m\u001b[1;33m,\u001b[0m \u001b[1;34m'./saved.ckpt'\u001b[0m\u001b[1;33m)\u001b[0m   \u001b[1;31m# ./ 디렉토리?\u001b[0m\u001b[1;33m\u001b[0m\u001b[1;33m\u001b[0m\u001b[0m\n\u001b[0m\u001b[0;32m     10\u001b[0m     \u001b[1;31m# 키보드로 입력받은 데이터를 불러온 학습 모델에 사용하기 위해 numpy 배열로 만듭니다.\u001b[0m\u001b[1;33m\u001b[0m\u001b[1;33m\u001b[0m\u001b[1;33m\u001b[0m\u001b[0m\n\u001b[0;32m     11\u001b[0m     \u001b[0mdata\u001b[0m \u001b[1;33m=\u001b[0m \u001b[1;33m[\u001b[0m\u001b[1;33m[\u001b[0m\u001b[0mavgTemp\u001b[0m\u001b[1;33m,\u001b[0m \u001b[0mminTemp\u001b[0m\u001b[1;33m,\u001b[0m \u001b[0mmaxTemp\u001b[0m\u001b[1;33m,\u001b[0m \u001b[0mrainFall\u001b[0m\u001b[1;33m]\u001b[0m\u001b[1;33m,\u001b[0m \u001b[1;33m]\u001b[0m  \u001b[1;31m# ,를 찍어줘야지열과 행으로 저장된다.\u001b[0m\u001b[1;33m\u001b[0m\u001b[1;33m\u001b[0m\u001b[0m\n",
      "\u001b[1;32mC:\\bigdata\\anaconda3\\envs\\bigdata\\lib\\site-packages\\tensorflow_core\\python\\training\\saver.py\u001b[0m in \u001b[0;36mrestore\u001b[1;34m(self, sess, save_path)\u001b[0m\n\u001b[0;32m   1280\u001b[0m     \u001b[1;32mif\u001b[0m \u001b[1;32mnot\u001b[0m \u001b[0mcheckpoint_management\u001b[0m\u001b[1;33m.\u001b[0m\u001b[0mcheckpoint_exists_internal\u001b[0m\u001b[1;33m(\u001b[0m\u001b[0mcheckpoint_prefix\u001b[0m\u001b[1;33m)\u001b[0m\u001b[1;33m:\u001b[0m\u001b[1;33m\u001b[0m\u001b[1;33m\u001b[0m\u001b[0m\n\u001b[0;32m   1281\u001b[0m       raise ValueError(\"The passed save_path is not a valid checkpoint: \" +\n\u001b[1;32m-> 1282\u001b[1;33m                        checkpoint_prefix)\n\u001b[0m\u001b[0;32m   1283\u001b[0m \u001b[1;33m\u001b[0m\u001b[0m\n\u001b[0;32m   1284\u001b[0m     \u001b[0mlogging\u001b[0m\u001b[1;33m.\u001b[0m\u001b[0minfo\u001b[0m\u001b[1;33m(\u001b[0m\u001b[1;34m\"Restoring parameters from %s\"\u001b[0m\u001b[1;33m,\u001b[0m \u001b[0mcheckpoint_prefix\u001b[0m\u001b[1;33m)\u001b[0m\u001b[1;33m\u001b[0m\u001b[1;33m\u001b[0m\u001b[0m\n",
      "\u001b[1;31mValueError\u001b[0m: The passed save_path is not a valid checkpoint: ./saved.ckpt"
     ]
    }
   ],
   "source": [
    "# 저장된 학습 모델을 불러와 적용시킵니다.\n",
    "# tf.train.Saver() : 학습된 모델을 디스크로 저장 또는 불러오는 객체를 생성하는 함수\n",
    "saver = tf.train.Saver()\n",
    "with tf.Session() as sess:\n",
    "    sess.run(tf.global_variables_initializer())   # 새 파일을 만들어 줬을 때 위에서 session을 안썼으면 굳이 안써줘도 동작 가능.\n",
    "    # save() 함수로 저장된 학습 모델은 restore() 함수를 사용해 세션으로 불러올 수 있습니다.\n",
    "    # 정상적으로 결과가 출력될 때 학습에 사용하는 변수를 다시 선언하면 학습 모델을 restore() 함수를 사용해 읽어올 때 오류가 발생합니다.\n",
    "    # restore() 함수를 사용해 학습 모델을 읽어올 때 오류가 발생하면 쥬피터 노트북을 종료하고 다시 실행합니다.\n",
    "    saver.restore(sess, './saved.ckpt')   # ./ 디렉토리?\n",
    "    # 키보드로 입력받은 데이터를 불러온 학습 모델에 사용하기 위해 numpy 배열로 만듭니다.\n",
    "    data = [[avgTemp, minTemp, maxTemp, rainFall], ]  # ,를 찍어줘야지열과 행으로 저장된다.\n",
    "    new_data = np.array(data, dtype = np.float32)\n",
    "    # 불러온 학습 모델을 키보드로 입력한 데이터를 적용시켜 입력된 데이터에 따른 배추 가격을 예측합니다.\n",
    "    result = sess.run(y, feed_dict = {X : new_data})\n",
    "    print(\"평균 온도 : {0}, 최저온도 : {1}, 최고온도 : {2}, 강수량 : {3} -> 배추 가격은 {4: ,.1f}원 입니다.\".format(avgTemp, minTemp, maxTemp, rainFall, int(result[0]))) \n",
    "    #  , 은돈 액수 1000단위 .1은 소수점 한자리 float형"
   ]
  }
 ],
 "metadata": {
  "kernelspec": {
   "display_name": "Python 3",
   "language": "python",
   "name": "python3"
  },
  "language_info": {
   "codemirror_mode": {
    "name": "ipython",
    "version": 3
   },
   "file_extension": ".py",
   "mimetype": "text/x-python",
   "name": "python",
   "nbconvert_exporter": "python",
   "pygments_lexer": "ipython3",
   "version": "3.6.10"
  }
 },
 "nbformat": 4,
 "nbformat_minor": 2
}
