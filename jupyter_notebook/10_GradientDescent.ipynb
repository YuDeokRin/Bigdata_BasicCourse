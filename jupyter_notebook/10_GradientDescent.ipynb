{
 "cells": [
  {
   "cell_type": "markdown",
   "metadata": {},
   "source": [
    "# 경사 하강법(Gradient Descent)\n",
    "기울기를 너무 크게 잡으면 오차가 커지고 기울기를 너무 작게 잡아도 오차가 커집니다. 기울기를 무한대로 키우면 오차도 무한대로 커지고 기울기를 무한대로 작게해도 오차는 무한대로 커집니다. "
   ]
  },
  {
   "cell_type": "code",
   "execution_count": 25,
   "metadata": {},
   "outputs": [],
   "source": [
    "import tensorflow.compat.v1 as tf\n",
    "tf.disable_v2_behavior()"
   ]
  },
  {
   "cell_type": "code",
   "execution_count": 26,
   "metadata": {},
   "outputs": [],
   "source": [
    "data = [[2, 81], [4, 93], [6, 91], [8, 97]] # [공부한 시간(x), 실제 성적(y)]\n",
    "xData = [i[0] for i in data] # 공부한 시간\n",
    "yData = [i[1] for i in data] # 실제 성적"
   ]
  },
  {
   "cell_type": "code",
   "execution_count": 27,
   "metadata": {},
   "outputs": [
    {
     "name": "stdout",
     "output_type": "stream",
     "text": [
      "a=[1.0071874], b=[5.6862593]\n"
     ]
    }
   ],
   "source": [
    "# 기울기(a)와 y절편(b)의 값을 임의로 정합니다.\n",
    "# (단, 기울기의 범위는 0~10 사이이며 y절편은 0~100사이에서 임의로 변하게 합니다.)\n",
    "a = tf.Variable(tf.random_uniform([1], 0, 10, dtype=tf.float32))\n",
    "b = tf.Variable(tf.random_uniform([1], 0, 100, dtype=tf.float32))\n",
    "sess = tf.Session()\n",
    "sess.run(tf.global_variables_initializer())\n",
    "print('a={}, b={}'.format(sess.run(a), sess.run(b)))"
   ]
  },
  {
   "cell_type": "code",
   "execution_count": 28,
   "metadata": {},
   "outputs": [],
   "source": [
    "# 예측 성적(y)를 얻기 위한 가설을 세웁니다.\n",
    "y = a * xData + b"
   ]
  },
  {
   "cell_type": "code",
   "execution_count": 29,
   "metadata": {},
   "outputs": [],
   "source": [
    "# tensorflow에서 실행할 RMSE(평균 제곱근 오차) 수식을 만듭니다. -> 오차(비용)함수\n",
    "# tf.square(y - yData) : 예측 성적과 실제 성적의 편차의 제곱을 계산\n",
    "# tf.reduce_mean(tf.square(y - yData)) : 예측 성적과 실제 성적의 편차의 제곱의 평균을 계산\n",
    "# tf.sqrt(tf.reduce_mean(tf.square(y - yData))) : 예측 성적과 실제 성적의 편차의 제곱의 평균의 제곱근을 계산\n",
    "rmse = tf.sqrt(tf.reduce_mean(tf.square(y - yData)))"
   ]
  },
  {
   "cell_type": "code",
   "execution_count": 30,
   "metadata": {},
   "outputs": [],
   "source": [
    "# 경사 하강법을 이용해서 RMSE를 최소로 하는 값을 찾는 수식을 만듭니다.\n",
    "gradient_descent = tf.train.GradientDescentOptimizer(0.1).minimize(rmse)"
   ]
  },
  {
   "cell_type": "code",
   "execution_count": 31,
   "metadata": {},
   "outputs": [
    {
     "name": "stdout",
     "output_type": "stream",
     "text": [
      "Epoch :    0, RMSE : 37.2497, 기울기 :  6.5665, y절편 : 93.5596\n",
      "Epoch :  100, RMSE :  5.1055, 기울기 :  0.5700, y절편 : 89.3239\n",
      "Epoch :  200, RMSE :  4.1284, 기울기 :  1.0864, y절편 : 86.2424\n",
      "Epoch :  300, RMSE :  3.4619, 기울기 :  1.5122, y절편 : 83.7014\n",
      "Epoch :  400, RMSE :  3.1080, 기울기 :  1.8214, y절편 : 81.8559\n",
      "Epoch :  500, RMSE :  2.9603, 기울기 :  2.0205, y절편 : 80.6678\n",
      "Epoch :  600, RMSE :  2.9074, 기울기 :  2.1396, y절편 : 79.9574\n",
      "Epoch :  700, RMSE :  2.8896, 기울기 :  2.2085, y절편 : 79.5462\n",
      "Epoch :  800, RMSE :  2.8838, 기울기 :  2.2479, y절편 : 79.3110\n",
      "Epoch :  900, RMSE :  2.8819, 기울기 :  2.2704, y절편 : 79.1769\n",
      "Epoch : 1000, RMSE :  2.8813, 기울기 :  2.2831, y절편 : 79.1006\n",
      "Epoch : 1100, RMSE :  2.8811, 기울기 :  2.2904, y절편 : 79.0572\n",
      "Epoch : 1200, RMSE :  2.8810, 기울기 :  2.2945, y절편 : 79.0326\n",
      "Epoch : 1300, RMSE :  2.8810, 기울기 :  2.2969, y절편 : 79.0185\n",
      "Epoch : 1400, RMSE :  2.8810, 기울기 :  2.2982, y절편 : 79.0106\n",
      "Epoch : 1500, RMSE :  2.8810, 기울기 :  2.2990, y절편 : 79.0060\n",
      "Epoch : 1600, RMSE :  2.8810, 기울기 :  2.2994, y절편 : 79.0034\n",
      "Epoch : 1700, RMSE :  2.8810, 기울기 :  2.2997, y절편 : 79.0019\n",
      "Epoch : 1800, RMSE :  2.8810, 기울기 :  2.2998, y절편 : 79.0012\n",
      "Epoch : 1900, RMSE :  2.8810, 기울기 :  2.2999, y절편 : 79.0006\n",
      "Epoch : 2000, RMSE :  2.8810, 기울기 :  2.2999, y절편 : 79.0006\n",
      "Epoch : 2100, RMSE :  2.8810, 기울기 :  2.2999, y절편 : 79.0006\n",
      "Epoch : 2200, RMSE :  2.8810, 기울기 :  2.2999, y절편 : 79.0006\n",
      "Epoch : 2300, RMSE :  2.8810, 기울기 :  2.2999, y절편 : 79.0006\n",
      "Epoch : 2400, RMSE :  2.8810, 기울기 :  2.2999, y절편 : 79.0006\n",
      "Epoch : 2500, RMSE :  2.8810, 기울기 :  2.2999, y절편 : 79.0006\n",
      "Epoch : 2600, RMSE :  2.8810, 기울기 :  2.2999, y절편 : 79.0006\n",
      "Epoch : 2700, RMSE :  2.8810, 기울기 :  2.2999, y절편 : 79.0006\n",
      "Epoch : 2800, RMSE :  2.8810, 기울기 :  2.2999, y절편 : 79.0006\n",
      "Epoch : 2900, RMSE :  2.8810, 기울기 :  2.2999, y절편 : 79.0006\n",
      "Epoch : 3000, RMSE :  2.8810, 기울기 :  2.2999, y절편 : 79.0006\n",
      "Epoch : 3100, RMSE :  2.8810, 기울기 :  2.2999, y절편 : 79.0006\n",
      "Epoch : 3200, RMSE :  2.8810, 기울기 :  2.2999, y절편 : 79.0006\n",
      "Epoch : 3300, RMSE :  2.8810, 기울기 :  2.2999, y절편 : 79.0006\n",
      "Epoch : 3400, RMSE :  2.8810, 기울기 :  2.2999, y절편 : 79.0006\n",
      "Epoch : 3500, RMSE :  2.8810, 기울기 :  2.2999, y절편 : 79.0006\n",
      "Epoch : 3600, RMSE :  2.8810, 기울기 :  2.2999, y절편 : 79.0006\n",
      "Epoch : 3700, RMSE :  2.8810, 기울기 :  2.2999, y절편 : 79.0006\n",
      "Epoch : 3800, RMSE :  2.8810, 기울기 :  2.2999, y절편 : 79.0006\n",
      "Epoch : 3900, RMSE :  2.8810, 기울기 :  2.2999, y절편 : 79.0006\n",
      "Epoch : 4000, RMSE :  2.8810, 기울기 :  2.2999, y절편 : 79.0006\n"
     ]
    }
   ],
   "source": [
    "import time\n",
    "\n",
    "with tf.Session() as sess:\n",
    "    # 변수를 초기화\n",
    "    sess.run(tf.global_variables_initializer())\n",
    "    # 4001번 반복하며 학습\n",
    "    for i in range(4001):\n",
    "        sess.run(gradient_descent)\n",
    "        \n",
    "        if i % 100 == 0:\n",
    "            print('Epoch : %4d, RMSE : %7.4f, 기울기 : %7.4f, y절편 : %7.4f' % (i, sess.run(rmse), sess.run(a), sess.run(b)))\n",
    "            time.sleep(0.5)"
   ]
  }
 ],
 "metadata": {
  "kernelspec": {
   "display_name": "Python 3",
   "language": "python",
   "name": "python3"
  },
  "language_info": {
   "codemirror_mode": {
    "name": "ipython",
    "version": 3
   },
   "file_extension": ".py",
   "mimetype": "text/x-python",
   "name": "python",
   "nbconvert_exporter": "python",
   "pygments_lexer": "ipython3",
   "version": "3.6.10"
  }
 },
 "nbformat": 4,
 "nbformat_minor": 2
}
