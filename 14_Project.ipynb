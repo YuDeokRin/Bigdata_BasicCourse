{
 "cells": [
  {
   "cell_type": "markdown",
   "metadata": {},
   "source": [
    "# 날씨와 배추 가격은 어떤 상관 관계가 있는지 예측하는 AI를 만들어봅니다.\n",
    "평균기온(avgTemp), 최저기온(minTemp), 최고기온(maxTemp), 강수량(rainFall)이 배추 가격(avePrice)에 영향을 미칠 경우 가격을 예측합니다."
   ]
  },
  {
   "cell_type": "code",
   "execution_count": 2,
   "metadata": {},
   "outputs": [],
   "source": [
    "import tensorflow.compat.v1 as tf\n",
    "tf.disable_v2_behavior()\n",
    "import numpy as np\n",
    "import pandas as pd"
   ]
  },
  {
   "cell_type": "code",
   "execution_count": 3,
   "metadata": {},
   "outputs": [
    {
     "name": "stdout",
     "output_type": "stream",
     "text": [
      "       year  avgTemp  minTemp  maxTemp  rainFall  avgPrice\n",
      "0  20100101     -4.9    -11.0      0.9       0.0      2123\n",
      "1  20100102     -3.1     -5.5      5.5       0.8      2123\n",
      "2  20100103     -2.9     -6.9      1.4       0.0      2123\n",
      "3  20100104     -1.8     -5.1      2.2       5.9      2020\n",
      "4  20100105     -5.2     -8.7     -1.8       0.7      2060\n"
     ]
    }
   ],
   "source": [
    "# price_data.csv 파일의 데이터를 pandas를 이용해 읽어옵니다.\n",
    "price_data = pd.read_csv('price_data.csv')\n",
    "print(price_data.head())   # 상위 5개만 가져온다."
   ]
  },
  {
   "cell_type": "code",
   "execution_count": 4,
   "metadata": {},
   "outputs": [
    {
     "name": "stdout",
     "output_type": "stream",
     "text": [
      "[[ 2.0100100e+07 -4.9000001e+00 -1.1000000e+01  8.9999998e-01\n",
      "   0.0000000e+00  2.1230000e+03]\n",
      " [ 2.0100102e+07 -3.0999999e+00 -5.5000000e+00  5.5000000e+00\n",
      "   8.0000001e-01  2.1230000e+03]\n",
      " [ 2.0100104e+07 -2.9000001e+00 -6.9000001e+00  1.4000000e+00\n",
      "   0.0000000e+00  2.1230000e+03]\n",
      " ...\n",
      " [ 2.0171228e+07  2.9000001e+00 -2.0999999e+00  8.0000000e+00\n",
      "   0.0000000e+00  2.9010000e+03]\n",
      " [ 2.0171230e+07  2.9000001e+00 -1.6000000e+00  7.0999999e+00\n",
      "   6.0000002e-01  2.9010000e+03]\n",
      " [ 2.0171232e+07  2.0999999e+00 -2.0000000e+00  5.8000002e+00\n",
      "   4.0000001e-01  2.9010000e+03]]\n",
      "<class 'numpy.ndarray'>\n"
     ]
    }
   ],
   "source": [
    "# 읽어온 데이터를 파이썬에서 처리하기 적합하게 numpy 배열 형태로 변환합니다.\n",
    "data = np.array(price_data, dtype=np.float32)\n",
    "print(data)\n",
    "print(type(data))   # <class 'numpy.ndarray'>"
   ]
  },
  {
   "cell_type": "code",
   "execution_count": 5,
   "metadata": {},
   "outputs": [
    {
     "name": "stdout",
     "output_type": "stream",
     "text": [
      "[[ -4.9 -11.    0.9   0. ]\n",
      " [ -3.1  -5.5   5.5   0.8]\n",
      " [ -2.9  -6.9   1.4   0. ]\n",
      " ...\n",
      " [  2.9  -2.1   8.    0. ]\n",
      " [  2.9  -1.6   7.1   0.6]\n",
      " [  2.1  -2.    5.8   0.4]]\n"
     ]
    }
   ],
   "source": [
    "# numpy 배열에서 데이터 변화 요인(평균 기온, 최저 기온, 최고 기온, 강수량)으로 사용할 데이터를 뽑아냅니다.\n",
    "xData = data[:, 1:5]  # 갯수는 상관없고 1행 5열   :, 뜻은 첨부터 끝까지\n",
    "print(xData)"
   ]
  },
  {
   "cell_type": "code",
   "execution_count": 6,
   "metadata": {},
   "outputs": [
    {
     "name": "stdout",
     "output_type": "stream",
     "text": [
      "[[2123.]\n",
      " [2123.]\n",
      " [2123.]\n",
      " ...\n",
      " [2901.]\n",
      " [2901.]\n",
      " [2901.]]\n"
     ]
    }
   ],
   "source": [
    "# numpy 배열에서 결과(평균ㄱ격)로 사용할 데이터를 뽑아냅니다.\n",
    "yData = data[:, 5] # 1차원 데이터로 데이터를 뽑아냅니다.\n",
    "yData = data[:, [5]] # 2차원 데이터로 데이터를 뽑아냅니다. 변화 요인이 2차원이므로 결과도 2차원 형태로 뽑아내야 합니다.\n",
    "print(yData)   # 1차, 2차 차이는  [12313][123123] = 1차   2차는 밑으로 쭉쭉 붙어있는거"
   ]
  },
  {
   "cell_type": "code",
   "execution_count": 7,
   "metadata": {},
   "outputs": [],
   "source": [
    "# 뽑아낸 데이터를 tensorflow로 처리하기 위해 placeholder를 만듭니다.\n",
    "X = tf.placeholder(dtype = tf.float32, shape = [None, 4])   # 변화요인(평균기온,최저기온,최대기온,강수량) 4개     # 행은 상관없고 열4개\n",
    "Y = tf.placeholder(dtype = tf.float32, shape = [None, 1])  # 가격(실제값)\n",
    "\n",
    "# 다변인 선형 회기 모델의 기울기와 y절편을 임의의 값으로 초기화 합니다.\n",
    "a = tf.Variable(tf.random_uniform([4, 1], dtype = tf.float32))  # 4행 1열을 난수로 발생시킵니다.\n",
    "b = tf.Variable(tf.random_uniform([1], dtype = tf.float32))  # 값이 1개"
   ]
  },
  {
   "cell_type": "code",
   "execution_count": 8,
   "metadata": {},
   "outputs": [],
   "source": [
    "# 행렬의 곱셈 연산을 이용해 다변인 선형 회귀 모델의 가설 식을 세웁니다. -> 예측값\n",
    "y = tf.matmul(X, a) + b   # 행렬 * 기울기 + y절편"
   ]
  },
  {
   "cell_type": "code",
   "execution_count": 9,
   "metadata": {},
   "outputs": [],
   "source": [
    "# 오차 함수를 만듭니다.\n",
    "loss = tf.reduce_mean(tf.square(y - Y))\n",
    "\n",
    "# 경사하강법 알고리즘을 사용해서 오차 함수 결과를 최소로하는 식을 만듭니다.\n",
    "gradient_descent = tf.train.GradientDescentOptimizer(0.00005).minimize(loss)      \n",
    "# 데이터가 많이 때문에 좀 더 세밀하게 잡아줘야해서 학습률(기울기를 0.0005만큼 쪼개서 나눈다.)을 엄청 낮게 내린다."
   ]
  },
  {
   "cell_type": "code",
   "execution_count": 10,
   "metadata": {},
   "outputs": [
    {
     "name": "stdout",
     "output_type": "stream",
     "text": [
      "Epoch :      0, loss = 12539589.000, price =   -5.8\n",
      "Epoch :   5000, loss =  2254412.000, price = 2581.4\n",
      "Epoch :  10000, loss =  2228268.750, price = 2584.3\n",
      "Epoch :  15000, loss =  2203933.250, price = 2587.4\n",
      "Epoch :  20000, loss =  2181262.750, price = 2590.5\n",
      "Epoch :  25000, loss =  2160125.250, price = 2593.8\n",
      "Epoch :  30000, loss =  2140403.000, price = 2597.2\n",
      "Epoch :  35000, loss =  2121989.000, price = 2600.6\n",
      "Epoch :  40000, loss =  2104780.500, price = 2604.2\n",
      "Epoch :  45000, loss =  2088689.500, price = 2607.8\n",
      "Epoch :  50000, loss =  2073632.750, price = 2611.5\n",
      "Epoch :  55000, loss =  2059533.625, price = 2615.2\n",
      "Epoch :  60000, loss =  2046322.375, price = 2619.0\n",
      "Epoch :  65000, loss =  2033935.250, price = 2622.8\n",
      "Epoch :  70000, loss =  2022315.250, price = 2626.6\n",
      "Epoch :  75000, loss =  2011406.250, price = 2630.5\n",
      "Epoch :  80000, loss =  2001158.500, price = 2634.3\n",
      "Epoch :  85000, loss =  1991531.000, price = 2638.2\n",
      "Epoch :  90000, loss =  1982474.500, price = 2642.1\n",
      "Epoch :  95000, loss =  1973953.500, price = 2645.9\n",
      "Epoch : 100000, loss =  1965935.750, price = 2649.8\n",
      "학습된 모델을 저장했습니다.\n"
     ]
    }
   ],
   "source": [
    "# 학습을 시킨 후 학습된 모델을 저장합니다.\n",
    "with tf.Session() as sess:\n",
    "    sess.run(tf.global_variables_initializer())\n",
    "    for i in range(100001):\n",
    "        loss_, y_, _ = sess.run([loss, y, gradient_descent], feed_dict = {X : xData, Y : yData})   # loss 값, y값, 하강법\n",
    "        if i % 5000 == 0:\n",
    "            print('Epoch : %6d, loss = %12.3f, price = %6.1f' % (i, loss_, y_[0]))\n",
    "            \n",
    "# 학습이 완료되면 학습된 모델을 디스크에 저장합니다.\n",
    "# tf.train.Saver() : 학습된 모델을 디스크로 저장 또는 불러오는 객체를 생성하는 함수입니다.\n",
    "    saver = tf.train.Saver()\n",
    "    save_path = saver.save(sess, './saved.ckpt')  # 확장명은 ckpt\n",
    "    print('학습된 모델을 저장했습니다.')"
   ]
  }
 ],
 "metadata": {
  "kernelspec": {
   "display_name": "Python 3",
   "language": "python",
   "name": "python3"
  },
  "language_info": {
   "codemirror_mode": {
    "name": "ipython",
    "version": 3
   },
   "file_extension": ".py",
   "mimetype": "text/x-python",
   "name": "python",
   "nbconvert_exporter": "python",
   "pygments_lexer": "ipython3",
   "version": "3.6.10"
  }
 },
 "nbformat": 4,
 "nbformat_minor": 2
}
